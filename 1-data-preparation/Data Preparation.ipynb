{
 "cells": [
  {
   "cell_type": "markdown",
   "metadata": {},
   "source": [
    "## In this notebook we prepare the data for further usage with LLM models\n"
   ]
  },
  {
   "cell_type": "markdown",
   "metadata": {},
   "source": [
    "#"
   ]
  },
  {
   "cell_type": "markdown",
   "metadata": {},
   "source": [
    "### Install dependencies"
   ]
  },
  {
   "cell_type": "code",
   "execution_count": null,
   "metadata": {},
   "outputs": [],
   "source": [
    "!pip install -qU langchain tiktoken matplotlib seaborn tqdm bs4 pypdf "
   ]
  },
  {
   "cell_type": "code",
   "execution_count": null,
   "metadata": {},
   "outputs": [],
   "source": [
    "!wget -r -A.html -P langchain-api https://api.python.langchain.com/en/latest/"
   ]
  },
  {
   "cell_type": "code",
   "execution_count": 105,
   "metadata": {},
   "outputs": [],
   "source": [
    "from langchain.document_loaders import ReadTheDocsLoader\n",
    "from langchain.document_loaders import PyPDFLoader\n",
    "\n",
    "\n",
    "def load_documents(loader: object):\n",
    "    docs = loader.load()\n",
    "    return docs"
   ]
  },
  {
   "cell_type": "code",
   "execution_count": 106,
   "metadata": {},
   "outputs": [
    {
     "name": "stderr",
     "output_type": "stream",
     "text": [
      "/Users/vladfeigin/myprojects/openai/workshops/dataai/vlad-cognitive-search-openai/cognitive_search_openai/.venv/lib/python3.10/site-packages/langchain/document_loaders/readthedocs.py:75: GuessedAtParserWarning: No parser was explicitly specified, so I'm using the best available HTML parser for this system (\"html.parser\"). This usually isn't a problem, but if you run this code on another system, or in a different virtual environment, it may use a different parser and behave differently.\n",
      "\n",
      "The code that caused this warning is on line 75 of the file /Users/vladfeigin/myprojects/openai/workshops/dataai/vlad-cognitive-search-openai/cognitive_search_openai/.venv/lib/python3.10/site-packages/langchain/document_loaders/readthedocs.py. To get rid of this warning, pass the additional argument 'features=\"html.parser\"' to the BeautifulSoup constructor.\n",
      "\n",
      "  soup = BeautifulSoup(data, **self.bs_kwargs)\n"
     ]
    }
   ],
   "source": [
    "\n",
    "loader = ReadTheDocsLoader('langchain-api')\n",
    "langchain_api_docs = load_documents(loader)\n"
   ]
  },
  {
   "cell_type": "code",
   "execution_count": 108,
   "metadata": {},
   "outputs": [
    {
     "data": {
      "text/plain": [
       "2152"
      ]
     },
     "execution_count": 108,
     "metadata": {},
     "output_type": "execute_result"
    }
   ],
   "source": [
    "len(langchain_api_docs)"
   ]
  },
  {
   "cell_type": "code",
   "execution_count": 111,
   "metadata": {},
   "outputs": [
    {
     "name": "stdout",
     "output_type": "stream",
     "text": [
      "{'source': 'langchain-api/api.python.langchain.com/en/latest/retrievers/langchain.retrievers.svm.SVMRetriever.html'}\n",
      "langchain.retrievers.svm.SVMRetriever¶\n",
      "class langchain.retrievers.svm.SVMRetriever[source]¶\n",
      "Bases: BaseRetriever\n",
      "SVM Retriever.\n",
      "Largely based on\n",
      "https://github.com/karpathy/randomfun/blob/master/knn_vs_svm.ipynb\n",
      "Create a new model by parsing and validating input data from keyword arguments.\n",
      "Raises ValidationError if the input data cannot be parsed to form a valid model.\n",
      "param embeddings: Embeddings [Required]¶\n",
      "Embeddings model to use.\n",
      "param index: Any = None¶\n",
      "Index of embeddings.\n",
      "param k: int = 4¶\n",
      "Number of results to return.\n",
      "param metadata: Optional[Dict[str, Any]] = None¶\n",
      "Optional metadata associated with the retriever. Defaults to None\n",
      "This metadata will be associated with each call to this retriever,\n",
      "and passed as arguments to the handlers defined in callbacks.\n",
      "You can use these to eg identify a specific instance of a retriever with its\n",
      "use case.\n",
      "param relevancy_threshold: Optional[float] = None¶\n",
      "Threshold for relevancy.\n",
      "param tags: Optional[List[str]] = None¶\n",
      "Optional list of tags associated with the retriever. Defaults to None\n",
      "These tags will be associated with each call to this retriever,\n",
      "and passed as arguments to the handlers defined in callbacks.\n",
      "You can use these to eg identify a specific instance of a retriever with its\n",
      "use case.\n",
      "param texts: List[str] [Required]¶\n",
      "List of texts to index.\n",
      "async abatch(inputs: List[Input], config: Optional[Union[RunnableConfig, List[RunnableConfig]]] = None, *, max_concurrency: Optional[int] = None) → List[Output]¶\n",
      "async aget_relevant_documents(query: str, *, callbacks: Callbacks = None, tags: Optional[List[str]] = None, metadata: Optional[Dict[str, Any]] = None, **kwargs: Any) → List[Document]¶\n",
      "Asynchronously get documents relevant to a query.\n",
      ":param query: string to find relevant documents for\n",
      ":param callbacks: Callback manager or list of callbacks\n",
      ":param tags: Optional list of tags associated with the retriever. Defaults to None\n",
      "These tags will be associated with each call to this retriever,\n",
      "and passed as arguments to the handlers defined in callbacks.\n",
      "Parameters\n",
      "metadata – Optional metadata associated with the retriever. Defaults to None\n",
      "This metadata will be associated with each call to this retriever,\n",
      "and passed as arguments to the handlers defined in callbacks.\n",
      "Returns\n",
      "List of relevant documents\n",
      "async ainvoke(input: str, config: Optional[RunnableConfig] = None) → List[Document]¶\n",
      "async astream(input: Input, config: Optional[RunnableConfig] = None) → AsyncIterator[Output]¶\n",
      "batch(inputs: List[Input], config: Optional[Union[RunnableConfig, List[RunnableConfig]]] = None, *, max_concurrency: Optional[int] = None) → List[Output]¶\n",
      "bind(**kwargs: Any) → Runnable[Input, Output]¶\n",
      "Bind arguments to a Runnable, returning a new Runnable.\n",
      "classmethod construct(_fields_set: Optional[SetStr] = None, **values: Any) → Model¶\n",
      "Creates a new model setting __dict__ and __fields_set__ from trusted or pre-validated data.\n",
      "Default values are respected, but no other validation is performed.\n",
      "Behaves as if Config.extra = ‘allow’ was set since it adds all passed values\n",
      "copy(*, include: Optional[Union[AbstractSetIntStr, MappingIntStrAny]] = None, exclude: Optional[Union[AbstractSetIntStr, MappingIntStrAny]] = None, update: Optional[DictStrAny] = None, deep: bool = False) → Model¶\n",
      "Duplicate a model, optionally choose which fields to include, exclude and change.\n",
      "Parameters\n",
      "include – fields to include in new model\n",
      "exclude – fields to exclude from new model, as with values this takes precedence over include\n",
      "update – values to change/add in the new model. Note: the data is not validated before creating\n",
      "the new model: you should trust this data\n",
      "deep – set to True to make a deep copy of the model\n",
      "Returns\n",
      "new model instance\n",
      "dict(*, include: Optional[Union[AbstractSetIntStr, MappingIntStrAny]] = None, exclude: Optional[Union[AbstractSetIntStr, MappingIntStrAny]] = None, by_alias: bool = False, skip_defaults: Optional[bool] = None, exclude_unset: bool = False, exclude_defaults: bool = False, exclude_none: bool = False) → DictStrAny¶\n",
      "Generate a dictionary representation of the model, optionally specifying which fields to include or exclude.\n",
      "classmethod from_documents(documents: Iterable[Document], embeddings: Embeddings, **kwargs: Any) → SVMRetriever[source]¶\n",
      "classmethod from_orm(obj: Any) → Model¶\n",
      "classmethod from_texts(texts: List[str], embeddings: Embeddings, **kwargs: Any) → SVMRetriever[source]¶\n",
      "get_relevant_documents(query: str, *, callbacks: Callbacks = None, tags: Optional[List[str]] = None, metadata: Optional[Dict[str, Any]] = None, **kwargs: Any) → List[Document]¶\n",
      "Retrieve documents relevant to a query.\n",
      ":param query: string to find relevant documents for\n",
      ":param callbacks: Callback manager or list of callbacks\n",
      ":param tags: Optional list of tags associated with the retriever. Defaults to None\n",
      "These tags will be associated with each call to this retriever,\n",
      "and passed as arguments to the handlers defined in callbacks.\n",
      "Parameters\n",
      "metadata – Optional metadata associated with the retriever. Defaults to None\n",
      "This metadata will be associated with each call to this retriever,\n",
      "and passed as arguments to the handlers defined in callbacks.\n",
      "Returns\n",
      "List of relevant documents\n",
      "invoke(input: str, config: Optional[RunnableConfig] = None) → List[Document]¶\n",
      "json(*, include: Optional[Union[AbstractSetIntStr, MappingIntStrAny]] = None, exclude: Optional[Union[AbstractSetIntStr, MappingIntStrAny]] = None, by_alias: bool = False, skip_defaults: Optional[bool] = None, exclude_unset: bool = False, exclude_defaults: bool = False, exclude_none: bool = False, encoder: Optional[Callable[[Any], Any]] = None, models_as_dict: bool = True, **dumps_kwargs: Any) → unicode¶\n",
      "Generate a JSON representation of the model, include and exclude arguments as per dict().\n",
      "encoder is an optional function to supply as default to json.dumps(), other arguments as per json.dumps().\n",
      "classmethod parse_file(path: Union[str, Path], *, content_type: unicode = None, encoding: unicode = 'utf8', proto: Protocol = None, allow_pickle: bool = False) → Model¶\n",
      "classmethod parse_obj(obj: Any) → Model¶\n",
      "classmethod parse_raw(b: Union[str, bytes], *, content_type: unicode = None, encoding: unicode = 'utf8', proto: Protocol = None, allow_pickle: bool = False) → Model¶\n",
      "classmethod schema(by_alias: bool = True, ref_template: unicode = '#/definitions/{model}') → DictStrAny¶\n",
      "classmethod schema_json(*, by_alias: bool = True, ref_template: unicode = '#/definitions/{model}', **dumps_kwargs: Any) → unicode¶\n",
      "stream(input: Input, config: Optional[RunnableConfig] = None) → Iterator[Output]¶\n",
      "to_json() → Union[SerializedConstructor, SerializedNotImplemented]¶\n",
      "to_json_not_implemented() → SerializedNotImplemented¶\n",
      "classmethod update_forward_refs(**localns: Any) → None¶\n",
      "Try to update ForwardRefs on fields based on this Model, globalns and localns.\n",
      "classmethod validate(value: Any) → Model¶\n",
      "with_fallbacks(fallbacks: ~typing.Sequence[~langchain.schema.runnable.Runnable[~langchain.schema.runnable.Input, ~langchain.schema.runnable.Output]], *, exceptions_to_handle: ~typing.Tuple[~typing.Type[BaseException]] = (<class 'Exception'>,)) → RunnableWithFallbacks[Input, Output]¶\n",
      "property lc_attributes: Dict¶\n",
      "Return a list of attribute names that should be included in the\n",
      "serialized kwargs. These attributes must be accepted by the\n",
      "constructor.\n",
      "property lc_namespace: List[str]¶\n",
      "Return the namespace of the langchain object.\n",
      "eg. [“langchain”, “llms”, “openai”]\n",
      "property lc_secrets: Dict[str, str]¶\n",
      "Return a map of constructor argument names to secret ids.\n",
      "eg. {“openai_api_key”: “OPENAI_API_KEY”}\n",
      "property lc_serializable: bool¶\n",
      "Return whether or not the class is serializable.\n",
      "Examples using SVMRetriever¶\n",
      "SVM\n",
      "QA over Documents\n"
     ]
    }
   ],
   "source": [
    "print(langchain_api_docs[5].metadata)\n",
    "print(langchain_api_docs[5].page_content)"
   ]
  },
  {
   "cell_type": "code",
   "execution_count": 107,
   "metadata": {},
   "outputs": [],
   "source": [
    "loader = PyPDFLoader(\"semantic-kernel.pdf\")\n",
    "sk_docs = load_documents(loader)"
   ]
  },
  {
   "cell_type": "code",
   "execution_count": 112,
   "metadata": {},
   "outputs": [
    {
     "name": "stdout",
     "output_type": "stream",
     "text": [
      "{'source': 'semantic-kernel.pdf', 'page': 5}\n",
      "Given that new breakthroughs in LLM AIs are landing on a daily basis, you should expect\n",
      "this SDK evolve. W e're excited to see what you build with Semantic K ernel and we look\n",
      "forward to your feedback and contributions so we can build the best practices together\n",
      "in the SDK.\n",
      "We welcome contributions and suggestions from the Semantic K ernel community! One\n",
      "of the easiest ways to participate is to engage in discussions in the GitHub repository .\n",
      "Bug reports and fixes are welcome!\n",
      "For new features, components, or extensions, please open an issue  and discuss with us\n",
      "before sending a PR. This will help avoid rejections since it will allow us to discuss the\n",
      "impact to the larger ecosystem.\n",
      "Now that you know what Semantic K ernel is, follow the get started  link to try it out.\n",
      "Within minutes you can create prompts and chain them with out-of-the-box plugins\n",
      "and native code. Soon afterwards, you can give your apps memories with embeddings\n",
      "and summon even more power from external APIs.Open the Semantic K ernel r epo\n",
      "Contribute to Semantic Kernel\n",
      "Learn mor e about contributing\n",
      "Get started using the Semantic Kernel SDK\n",
      "Get star ted with Semantic K ernel\n"
     ]
    }
   ],
   "source": [
    "print(sk_docs[5].metadata)\n",
    "print(sk_docs[5].page_content)"
   ]
  },
  {
   "cell_type": "code",
   "execution_count": 113,
   "metadata": {},
   "outputs": [],
   "source": [
    "import tiktoken\n",
    "\n",
    "tokenizer = tiktoken.get_encoding('cl100k_base')\n",
    "\n",
    "# create the length function\n",
    "def tiktoken_len(text):\n",
    "    tokens = tokenizer.encode(\n",
    "        text,\n",
    "        disallowed_special=()\n",
    "    )\n",
    "    return len(tokens)"
   ]
  },
  {
   "cell_type": "code",
   "execution_count": null,
   "metadata": {},
   "outputs": [],
   "source": [
    "tiktoken.encoding_for_model('gpt-3.5-turbo')"
   ]
  },
  {
   "cell_type": "code",
   "execution_count": 116,
   "metadata": {},
   "outputs": [
    {
     "data": {
      "text/plain": [
       "<Encoding 'cl100k_base'>"
      ]
     },
     "execution_count": 116,
     "metadata": {},
     "output_type": "execute_result"
    }
   ],
   "source": [
    "tiktoken.encoding_for_model('gpt-4')"
   ]
  },
  {
   "cell_type": "code",
   "execution_count": 118,
   "metadata": {},
   "outputs": [
    {
     "name": "stdout",
     "output_type": "stream",
     "text": [
      "max tokens in a document: 702\n"
     ]
    }
   ],
   "source": [
    "tokens_per_doc_in_sk = [tiktoken_len(doc.page_content) for doc in sk_docs]\n",
    "print (f\"max tokens in a document: {max(tokens_per_doc_in_sk)}\")"
   ]
  },
  {
   "cell_type": "code",
   "execution_count": 121,
   "metadata": {},
   "outputs": [
    {
     "name": "stdout",
     "output_type": "stream",
     "text": [
      "max tokens in a document: 28854\n"
     ]
    }
   ],
   "source": [
    "tokens_per_doc_in_lc_api = [tiktoken_len(doc.page_content) for doc in langchain_api_docs]\n",
    "print (f\"max tokens in a document: {max(tokens_per_doc_in_lc_api)}\")"
   ]
  },
  {
   "cell_type": "code",
   "execution_count": 137,
   "metadata": {},
   "outputs": [
    {
     "data": {
      "image/png": "[encoded data removed]",
      "text/plain": [
       "<Figure size 1000x500 with 1 Axes>"
      ]
     },
     "metadata": {},
     "output_type": "display_data"
    }
   ],
   "source": [
    "import matplotlib.pyplot as plt\n",
    "import seaborn as sns\n",
    "\n",
    "# create histogram\n",
    "plt.figure(figsize=(10, 5))\n",
    "sns.histplot(tokens_per_doc_in_lc_api, kde=False, bins=500)\n",
    "\n",
    "# customize the plot info\n",
    "plt.title(\"Token Counts Histogram\")\n",
    "plt.xlabel(\"Token Count\")\n",
    "plt.ylabel(\"Frequency\")\n",
    "\n",
    "plt.show()"
   ]
  },
  {
   "cell_type": "markdown",
   "metadata": {},
   "source": []
  },
  {
   "cell_type": "code",
   "execution_count": 150,
   "metadata": {},
   "outputs": [],
   "source": [
    "from langchain.text_splitter import RecursiveCharacterTextSplitter\n",
    "\n",
    "text_splitter = RecursiveCharacterTextSplitter(\n",
    "    chunk_size=400,\n",
    "    chunk_overlap=20,  # number of tokens overlap between chunks\n",
    "    length_function=tiktoken_len,\n",
    "    separators=['\\n\\n', '\\n', ' ', '']\n",
    ")"
   ]
  },
  {
   "cell_type": "code",
   "execution_count": 151,
   "metadata": {},
   "outputs": [],
   "source": [
    "from tqdm.auto import tqdm\n",
    "from  langchain.schema.document import Document\n",
    "import hashlib\n",
    "import json\n",
    "m = hashlib.md5()"
   ]
  },
  {
   "cell_type": "code",
   "execution_count": 152,
   "metadata": {},
   "outputs": [],
   "source": [
    "\n",
    "def prepare_data_for_embedding(docs: list[Document]):\n",
    "  documents = []\n",
    "\n",
    "  for doc in tqdm(docs):\n",
    "      url = doc.metadata['source']\n",
    "      m.update(url.encode('utf-8'))\n",
    "      uid = m.hexdigest()[:12]\n",
    "      chunks = text_splitter.split_text(doc.page_content)\n",
    "      for i, chunk in enumerate(chunks):\n",
    "         documents.append({\n",
    "          'id': f'{uid}-{i}',\n",
    "          'text': chunk,\n",
    "          'source': url,  \n",
    "        })\n",
    "  return documents"
   ]
  },
  {
   "cell_type": "code",
   "execution_count": 153,
   "metadata": {},
   "outputs": [],
   "source": [
    "\n",
    "def persist_docs(docs: list[str], target_path: str):\n",
    "    with open(target_path, 'w') as f:\n",
    "        for doc in docs:\n",
    "            f.write(json.dumps(doc) + '\\n')"
   ]
  },
  {
   "cell_type": "code",
   "execution_count": 155,
   "metadata": {},
   "outputs": [
    {
     "name": "stderr",
     "output_type": "stream",
     "text": [
      "100%|██████████| 188/188 [00:00<00:00, 1991.44it/s]\n",
      "100%|██████████| 2152/2152 [00:05<00:00, 396.08it/s]\n"
     ]
    }
   ],
   "source": [
    "persist_docs(prepare_data_for_embedding(sk_docs), \"../data/semantic_kernel.jsonl\")\n",
    "persist_docs(prepare_data_for_embedding(langchain_api_docs), \"../data/langchain.jsonl\")\n",
    "\n"
   ]
  },
  {
   "cell_type": "code",
   "execution_count": null,
   "metadata": {},
   "outputs": [],
   "source": []
  }
 ],
 "metadata": {
  "kernelspec": {
   "display_name": ".venv",
   "language": "python",
   "name": "python3"
  },
  "language_info": {
   "codemirror_mode": {
    "name": "ipython",
    "version": 3
   },
   "file_extension": ".py",
   "mimetype": "text/x-python",
   "name": "python",
   "nbconvert_exporter": "python",
   "pygments_lexer": "ipython3",
   "version": "3.10.12"
  },
  "orig_nbformat": 4
 },
 "nbformat": 4,
 "nbformat_minor": 2
}
